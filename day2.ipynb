{
 "cells": [
  {
   "cell_type": "code",
   "execution_count": 2,
   "id": "00b9b3b8-dc1a-45fa-a0e5-516094f37ed3",
   "metadata": {},
   "outputs": [
    {
     "name": "stdout",
     "output_type": "stream",
     "text": [
      "My Age is 20 and my name is AMAR\n",
      "my name is AMAR and age is20\n"
     ]
    }
   ],
   "source": [
    "age = 20\n",
    "name = \"AMAR\"\n",
    "print(f\"My Age is {age} and my name is {name}\")\n",
    "print(\"my name is {} and age is{}\".format(name,age))"
   ]
  },
  {
   "cell_type": "code",
   "execution_count": 3,
   "id": "d204a371-e8b9-4c3b-ba47-6d5f561cd3c6",
   "metadata": {},
   "outputs": [
    {
     "name": "stdin",
     "output_type": "stream",
     "text": [
      "Enter Your Age: 20\n"
     ]
    },
    {
     "name": "stdout",
     "output_type": "stream",
     "text": [
      "Young Blood\n"
     ]
    }
   ],
   "source": [
    "age  = int(input(\"Enter Your Age:\"))\n",
    "if age >=18 and age <=45:\n",
    "    print(\"Young Blood\")\n",
    "else:\n",
    "    print(\"Not a Youth\")"
   ]
  },
  {
   "cell_type": "code",
   "execution_count": 6,
   "id": "a0b165da-099f-4530-a3b3-4a17a15ec504",
   "metadata": {},
   "outputs": [
    {
     "name": "stdin",
     "output_type": "stream",
     "text": [
      "Enter the Product Price: 100\n"
     ]
    },
    {
     "name": "stdout",
     "output_type": "stream",
     "text": [
      "Price after Discount is: 90.0\n"
     ]
    }
   ],
   "source": [
    "#product price\n",
    "pprice = int(input(\"Enter the Product Price:\"))\n",
    "if pprice >1000:\n",
    "    print(\"Price after Discount is:\",pprice*0.7)\n",
    "elif pprice <=1000:\n",
    "    print(\"Price after Discount is:\",pprice*0.9)"
   ]
  },
  {
   "cell_type": "code",
   "execution_count": 25,
   "id": "bd3e567c-8d7f-4542-9e62-a41693ca0142",
   "metadata": {},
   "outputs": [
    {
     "name": "stdin",
     "output_type": "stream",
     "text": [
      "Enter Your Age: 36\n"
     ]
    },
    {
     "name": "stdout",
     "output_type": "stream",
     "text": [
      "You can Marry now\n",
      "apple\n",
      "apple\n",
      "apple\n",
      "apple\n",
      "apple\n"
     ]
    }
   ],
   "source": [
    "#loops\n",
    "#while Loop\n",
    "age = int(input(\"Enter Your Age:\"))\n",
    "while age <30:\n",
    "    print(\"You cannnot marry now\")\n",
    "    print(\"you can marry after {lage} years\".format(lage = 30-age))\n",
    "    age = age+1\n",
    "else:\n",
    "    print(\"You can Marry now\")\n",
    "\n",
    "a = 'apple'\n",
    "i = 0\n",
    "while i < len(a):\n",
    "    print(a)\n",
    "    i = i+1"
   ]
  },
  {
   "cell_type": "code",
   "execution_count": 14,
   "id": "0102dcf1-8e19-4462-9a72-c6c35b77d0fe",
   "metadata": {},
   "outputs": [
    {
     "name": "stdout",
     "output_type": "stream",
     "text": [
      "a\n",
      "p\n",
      "p\n",
      "l\n",
      "e\n"
     ]
    }
   ],
   "source": [
    "#For loop\n",
    "a = \"apple\"\n",
    "for i in a:\n",
    "    print(i)"
   ]
  },
  {
   "cell_type": "code",
   "execution_count": 26,
   "id": "53c0ee3b-4448-411f-937e-aa4547544dd9",
   "metadata": {},
   "outputs": [
    {
     "name": "stdout",
     "output_type": "stream",
     "text": [
      "2\n",
      "4\n",
      "6\n",
      "8\n",
      "10\n"
     ]
    }
   ],
   "source": [
    "# mulitples of 2 using for\n",
    "for i in range(1,11,2):\n",
    "    print(i+1)\n",
    "    "
   ]
  },
  {
   "cell_type": "code",
   "execution_count": 42,
   "id": "78244ab6-1f70-4782-a94d-6493d9bf0907",
   "metadata": {},
   "outputs": [
    {
     "name": "stdout",
     "output_type": "stream",
     "text": [
      " * \n",
      " *  * \n",
      " *  *  * \n",
      " *  *  *  * \n",
      " *  *  *  *  * \n",
      " *  *  *  *  *  * \n",
      " *  *  *  *  *  *  * \n"
     ]
    }
   ],
   "source": [
    "#pattern Printing\n",
    "n=7\n",
    "for i in range(0,n):\n",
    "    for j in range(0,i+1):\n",
    "        print(\" * \",end=\"\")\n",
    "    print('\\r')\n",
    "        \n",
    "    "
   ]
  },
  {
   "cell_type": "code",
   "execution_count": null,
   "id": "cb9168f2-3279-49db-823d-907225fa6680",
   "metadata": {},
   "outputs": [],
   "source": []
  },
  {
   "cell_type": "code",
   "execution_count": null,
   "id": "7704d154-beea-4dac-87f9-f0faf9f23d78",
   "metadata": {},
   "outputs": [],
   "source": []
  },
  {
   "cell_type": "code",
   "execution_count": null,
   "id": "11d31c1d-dde7-401a-bc79-b7b30390bb13",
   "metadata": {},
   "outputs": [],
   "source": []
  },
  {
   "cell_type": "code",
   "execution_count": null,
   "id": "bf27e87d-ac63-4695-8599-f9ea45558436",
   "metadata": {},
   "outputs": [],
   "source": []
  },
  {
   "cell_type": "code",
   "execution_count": null,
   "id": "4ddd554a-cb8f-4141-b4c7-4012642b86ec",
   "metadata": {},
   "outputs": [],
   "source": []
  },
  {
   "cell_type": "code",
   "execution_count": null,
   "id": "1020697c-4ecd-49ce-9c45-25804b532177",
   "metadata": {},
   "outputs": [],
   "source": []
  },
  {
   "cell_type": "code",
   "execution_count": null,
   "id": "4f69a9e1-87d0-4787-8b74-82ad920d1fc2",
   "metadata": {},
   "outputs": [],
   "source": []
  },
  {
   "cell_type": "code",
   "execution_count": null,
   "id": "9322d3e7-a0a9-4d78-a0a6-b5bbeb34028c",
   "metadata": {},
   "outputs": [],
   "source": []
  },
  {
   "cell_type": "code",
   "execution_count": null,
   "id": "bfefd8cc-5ec7-4db3-a9ce-f16aae183d40",
   "metadata": {},
   "outputs": [],
   "source": []
  },
  {
   "cell_type": "code",
   "execution_count": null,
   "id": "7c105651-2259-40e5-9306-dcdeae1f4e80",
   "metadata": {},
   "outputs": [],
   "source": []
  },
  {
   "cell_type": "code",
   "execution_count": null,
   "id": "3a4815bc-ee4a-4036-a7ba-0a4de9518f42",
   "metadata": {},
   "outputs": [],
   "source": []
  },
  {
   "cell_type": "code",
   "execution_count": null,
   "id": "1b077aaf-dc5e-403e-801e-8a43375fb42e",
   "metadata": {},
   "outputs": [],
   "source": []
  },
  {
   "cell_type": "code",
   "execution_count": null,
   "id": "d36ddcef-9489-4390-bed8-0e1c42472bc1",
   "metadata": {},
   "outputs": [],
   "source": []
  },
  {
   "cell_type": "code",
   "execution_count": null,
   "id": "941859a5-452b-4995-8e7c-f106b5e8dac3",
   "metadata": {},
   "outputs": [],
   "source": []
  },
  {
   "cell_type": "code",
   "execution_count": null,
   "id": "113304de-6379-4e34-9a43-6e694bc6ea5a",
   "metadata": {},
   "outputs": [],
   "source": []
  },
  {
   "cell_type": "code",
   "execution_count": null,
   "id": "4db3009b-925b-4e5b-95f4-2f956ffa2d31",
   "metadata": {},
   "outputs": [],
   "source": []
  },
  {
   "cell_type": "code",
   "execution_count": null,
   "id": "6691f9b2-81d2-49e0-bf6b-73bac9b06cd4",
   "metadata": {},
   "outputs": [],
   "source": []
  },
  {
   "cell_type": "code",
   "execution_count": null,
   "id": "b742cdf7-f30e-4871-9690-5e9d44cdf1dc",
   "metadata": {},
   "outputs": [],
   "source": []
  },
  {
   "cell_type": "code",
   "execution_count": null,
   "id": "1f891131-d508-4869-8b1d-acb203810d0c",
   "metadata": {},
   "outputs": [],
   "source": []
  },
  {
   "cell_type": "code",
   "execution_count": null,
   "id": "e74e1d4e-d8a0-4228-98fe-b18492820869",
   "metadata": {},
   "outputs": [],
   "source": []
  },
  {
   "cell_type": "code",
   "execution_count": null,
   "id": "9102e78c-b11b-48ab-87a5-8bb9c85fbaeb",
   "metadata": {},
   "outputs": [],
   "source": []
  },
  {
   "cell_type": "code",
   "execution_count": null,
   "id": "da51ec38-2d68-432c-a072-8ea4f5bd728c",
   "metadata": {},
   "outputs": [],
   "source": []
  },
  {
   "cell_type": "code",
   "execution_count": null,
   "id": "d2548eee-c35a-4592-ab51-fddd6a92ffa2",
   "metadata": {},
   "outputs": [],
   "source": []
  },
  {
   "cell_type": "code",
   "execution_count": null,
   "id": "a7a0e81a-124d-4719-b157-5af94296e2c3",
   "metadata": {},
   "outputs": [],
   "source": []
  },
  {
   "cell_type": "code",
   "execution_count": null,
   "id": "4142ac8b-42f5-455c-9254-c3a10159998f",
   "metadata": {},
   "outputs": [],
   "source": []
  },
  {
   "cell_type": "code",
   "execution_count": null,
   "id": "cbad8c5a-ebb6-4a7d-a50e-18255b443dfd",
   "metadata": {},
   "outputs": [],
   "source": []
  }
 ],
 "metadata": {
  "kernelspec": {
   "display_name": "Python 3 (ipykernel)",
   "language": "python",
   "name": "python3"
  },
  "language_info": {
   "codemirror_mode": {
    "name": "ipython",
    "version": 3
   },
   "file_extension": ".py",
   "mimetype": "text/x-python",
   "name": "python",
   "nbconvert_exporter": "python",
   "pygments_lexer": "ipython3",
   "version": "3.12.3"
  }
 },
 "nbformat": 4,
 "nbformat_minor": 5
}
