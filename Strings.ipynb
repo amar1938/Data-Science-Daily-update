{
 "cells": [
  {
   "cell_type": "code",
   "execution_count": 1,
   "id": "d357d858-36af-4a41-b4f7-cad94018815f",
   "metadata": {},
   "outputs": [],
   "source": [
    "name = \"Data Science Master\""
   ]
  },
  {
   "cell_type": "code",
   "execution_count": 2,
   "id": "d5c7aef3-6023-49a1-b33d-27bc220d7a5d",
   "metadata": {},
   "outputs": [
    {
     "data": {
      "text/plain": [
       "'dATA sCIENCE mASTER'"
      ]
     },
     "execution_count": 2,
     "metadata": {},
     "output_type": "execute_result"
    }
   ],
   "source": [
    "name.swapcase()"
   ]
  },
  {
   "cell_type": "code",
   "execution_count": 3,
   "id": "843d37e4-53c9-4c8f-924d-dcfd9431d6e2",
   "metadata": {},
   "outputs": [
    {
     "data": {
      "text/plain": [
       "'Data Science Master'"
      ]
     },
     "execution_count": 3,
     "metadata": {},
     "output_type": "execute_result"
    }
   ],
   "source": [
    "name.title()\n"
   ]
  },
  {
   "cell_type": "code",
   "execution_count": 4,
   "id": "8a548840-e6c7-43ae-baff-49214cb6fccb",
   "metadata": {},
   "outputs": [
    {
     "name": "stdout",
     "output_type": "stream",
     "text": [
      "retsaM ecneicS ataD\n"
     ]
    }
   ],
   "source": [
    "print(name[::-1])\n"
   ]
  },
  {
   "cell_type": "code",
   "execution_count": 9,
   "id": "9d3cf71d-cb8b-49ab-9964-f4773bdd8c9d",
   "metadata": {},
   "outputs": [
    {
     "data": {
      "text/plain": [
       "'retsaM ecneicS ataD'"
      ]
     },
     "execution_count": 9,
     "metadata": {},
     "output_type": "execute_result"
    }
   ],
   "source": [
    "#another method to reverse a String\n",
    "a=\"I ate an Apple\"\n",
    "''.join(reversed(name))"
   ]
  },
  {
   "cell_type": "code",
   "execution_count": 11,
   "id": "34f5ac44-3d54-4d3e-a5e3-53e57c4c596c",
   "metadata": {},
   "outputs": [
    {
     "data": {
      "text/plain": [
       "'A-b-c-d'"
      ]
     },
     "execution_count": 11,
     "metadata": {},
     "output_type": "execute_result"
    }
   ],
   "source": [
    "#join fn\n",
    "'-'.join(\"Abcd\")"
   ]
  },
  {
   "cell_type": "code",
   "execution_count": 16,
   "id": "ae836a2a-ad6d-4168-aca9-ae122fae9da4",
   "metadata": {},
   "outputs": [
    {
     "data": {
      "text/plain": [
       "True"
      ]
     },
     "execution_count": 16,
     "metadata": {},
     "output_type": "execute_result"
    }
   ],
   "source": [
    "bool(reversed(\"Apple\"))"
   ]
  },
  {
   "cell_type": "code",
   "execution_count": 17,
   "id": "b77944c4-fc6f-48a8-ba89-bf8911b4d31b",
   "metadata": {},
   "outputs": [
    {
     "data": {
      "text/plain": [
       "['e', 'l', 'p', 'p', 'A']"
      ]
     },
     "execution_count": 17,
     "metadata": {},
     "output_type": "execute_result"
    }
   ],
   "source": [
    "list(reversed(\"Apple\"))"
   ]
  },
  {
   "cell_type": "code",
   "execution_count": 19,
   "id": "af87c65d-c767-4050-8205-1ec4a469fddf",
   "metadata": {},
   "outputs": [
    {
     "name": "stdout",
     "output_type": "stream",
     "text": [
      "e\n",
      "l\n",
      "p\n",
      "p\n",
      "A\n",
      " \n",
      "n\n",
      "a\n",
      " \n",
      "e\n",
      "t\n",
      "a\n",
      " \n",
      "I\n"
     ]
    }
   ],
   "source": [
    "#using Reverse to get str output\n",
    "for i in list(reversed(\"I ate an Apple\")):\n",
    "                       print(i)"
   ]
  },
  {
   "cell_type": "code",
   "execution_count": 20,
   "id": "e4e402d2-eff8-4e9d-bad2-a834b156ec45",
   "metadata": {},
   "outputs": [
    {
     "name": "stdout",
     "output_type": "stream",
     "text": [
      "elppA na eta I"
     ]
    }
   ],
   "source": [
    "#using Reverse to get str output\n",
    "for i in list(reversed(\"I ate an Apple\")):\n",
    "                       print(i,end=\"\")"
   ]
  },
  {
   "cell_type": "code",
   "execution_count": 26,
   "id": "8cff51b8-5eec-4dc5-abbc-dd264eeca8e3",
   "metadata": {},
   "outputs": [
    {
     "data": {
      "text/plain": [
       "'Amar'"
      ]
     },
     "execution_count": 26,
     "metadata": {},
     "output_type": "execute_result"
    }
   ],
   "source": [
    "#removing Spaces in a string\n",
    "a=\" Amar\"\n",
    "a.strip(\" \")"
   ]
  },
  {
   "cell_type": "code",
   "execution_count": 28,
   "id": "36a98f9a-fea2-4b46-825b-1ce973eefff0",
   "metadata": {},
   "outputs": [
    {
     "data": {
      "text/plain": [
       "'My name was Amar'"
      ]
     },
     "execution_count": 28,
     "metadata": {},
     "output_type": "execute_result"
    }
   ],
   "source": [
    "#replace\n",
    "a=\"My name is Amar\"\n",
    "a.replace(\"is\",\"was\")"
   ]
  },
  {
   "cell_type": "code",
   "execution_count": 31,
   "id": "b9b3bbc5-87ac-4bda-bf99-e31446450682",
   "metadata": {},
   "outputs": [
    {
     "name": "stdout",
     "output_type": "stream",
     "text": [
      "My name is Amar\n"
     ]
    },
    {
     "data": {
      "text/plain": [
       "2408634360944"
      ]
     },
     "execution_count": 31,
     "metadata": {},
     "output_type": "execute_result"
    }
   ],
   "source": [
    "#Strings are immutable(So replacing creates a nre Copy of string)\n",
    "print(a)\n",
    "id(a)\n"
   ]
  },
  {
   "cell_type": "code",
   "execution_count": 32,
   "id": "269d94ca-45c4-4313-bb9f-8a147148ad02",
   "metadata": {},
   "outputs": [
    {
     "data": {
      "text/plain": [
       "2408634363824"
      ]
     },
     "execution_count": 32,
     "metadata": {},
     "output_type": "execute_result"
    }
   ],
   "source": [
    "id(a.replace(\"My\",\"I\"))\n"
   ]
  },
  {
   "cell_type": "code",
   "execution_count": 33,
   "id": "797db7f5-64af-4028-9d4e-b83b3347f420",
   "metadata": {},
   "outputs": [
    {
     "data": {
      "text/plain": [
       "'Welecome to Data Science Masters'"
      ]
     },
     "execution_count": 33,
     "metadata": {},
     "output_type": "execute_result"
    }
   ],
   "source": [
    "s1 = \"Welecome to Dat cience Masters\"\n",
    "s1.replace(\"Dat cience\",\"Data Science\")"
   ]
  },
  {
   "cell_type": "code",
   "execution_count": 34,
   "id": "b7abb457-7f98-4ea9-a928-0524e73f99a5",
   "metadata": {},
   "outputs": [
    {
     "data": {
      "text/plain": [
       "'Welecome to Data Science Masters'"
      ]
     },
     "execution_count": 34,
     "metadata": {},
     "output_type": "execute_result"
    }
   ],
   "source": [
    "s1.replace(\"Dat\",\"Data\").replace(\"cience\",\"Science\")"
   ]
  },
  {
   "cell_type": "code",
   "execution_count": 35,
   "id": "56427eaa-5135-4ace-9220-fe846f7ec651",
   "metadata": {},
   "outputs": [
    {
     "data": {
      "text/plain": [
       "True"
      ]
     },
     "execution_count": 35,
     "metadata": {},
     "output_type": "execute_result"
    }
   ],
   "source": [
    "#checking Upper\n",
    "a=\"AMAR\"\n",
    "a.isupper()"
   ]
  },
  {
   "cell_type": "code",
   "execution_count": 37,
   "id": "0e3d4f9c-8b03-4976-b4bf-dfdf52dd7c00",
   "metadata": {},
   "outputs": [
    {
     "data": {
      "text/plain": [
       "True"
      ]
     },
     "execution_count": 37,
     "metadata": {},
     "output_type": "execute_result"
    }
   ],
   "source": [
    "a='amar111'\n",
    "a.isalnum()"
   ]
  },
  {
   "cell_type": "code",
   "execution_count": 40,
   "id": "6644f419-e9f6-4b90-be0a-579317c3691f",
   "metadata": {},
   "outputs": [
    {
     "name": "stdout",
     "output_type": "stream",
     "text": [
      "7\n"
     ]
    }
   ],
   "source": [
    "#Count char in string\n",
    "count = 0\n",
    "for i in a:\n",
    "    count=count+1\n",
    "print(count)"
   ]
  },
  {
   "cell_type": "code",
   "execution_count": 41,
   "id": "661e1ce6-92b6-48cb-8f5e-607013baab69",
   "metadata": {},
   "outputs": [
    {
     "data": {
      "text/plain": [
       "7"
      ]
     },
     "execution_count": 41,
     "metadata": {},
     "output_type": "execute_result"
    }
   ],
   "source": [
    "len(a)"
   ]
  },
  {
   "cell_type": "code",
   "execution_count": 42,
   "id": "5ddad4cc-0f3f-456f-b62e-8549c50c018f",
   "metadata": {},
   "outputs": [
    {
     "name": "stdout",
     "output_type": "stream",
     "text": [
      "0 => a\n",
      "1 => m\n",
      "2 => a\n",
      "3 => r\n",
      "4 => 1\n",
      "5 => 1\n",
      "6 => 1\n"
     ]
    }
   ],
   "source": [
    "for i in range(len(a)):\n",
    "    print(i,\"=>\",a[i])"
   ]
  },
  {
   "cell_type": "code",
   "execution_count": 50,
   "id": "6d81f8bd-fec0-4586-839a-92d137ede968",
   "metadata": {},
   "outputs": [
    {
     "name": "stdout",
     "output_type": "stream",
     "text": [
      "6 -> 1\n",
      "5 -> 1\n",
      "4 -> 1\n",
      "3 -> r\n",
      "2 -> a\n",
      "1 -> m\n",
      "0 -> a\n"
     ]
    }
   ],
   "source": [
    "#Use index to iterate sting in reverse direction\n",
    "for i in range(len(a)-1,-1,-1):\n",
    "    print(i,\"->\",a[i])"
   ]
  },
  {
   "cell_type": "code",
   "execution_count": 52,
   "id": "6e3458be-e1aa-4a93-99ac-41acabe48709",
   "metadata": {},
   "outputs": [
    {
     "name": "stdout",
     "output_type": "stream",
     "text": [
      "1\n",
      "1\n",
      "1\n",
      "h\n",
      "t\n",
      "a\n",
      "n\n",
      "r\n",
      "a\n",
      "m\n",
      "A\n"
     ]
    }
   ],
   "source": [
    "#reversing using while\n",
    "a=\"Amarnath111\"\n",
    "ch=len(a)-1\n",
    "while ch>=0:\n",
    "    print(a[ch])\n",
    "    ch=ch-1\n",
    "    "
   ]
  },
  {
   "cell_type": "code",
   "execution_count": null,
   "id": "92df49cb-7b7d-4829-b1b6-fd26a27bfc03",
   "metadata": {},
   "outputs": [],
   "source": []
  },
  {
   "cell_type": "code",
   "execution_count": null,
   "id": "0eddbe51-7de2-4652-af7b-8845d58ca6f8",
   "metadata": {},
   "outputs": [],
   "source": []
  },
  {
   "cell_type": "code",
   "execution_count": null,
   "id": "fe93ba67-f46a-429d-9829-3664122c9a18",
   "metadata": {},
   "outputs": [],
   "source": []
  },
  {
   "cell_type": "code",
   "execution_count": null,
   "id": "c8eaf1ad-d843-4b7d-9e83-d2088456594e",
   "metadata": {},
   "outputs": [],
   "source": []
  },
  {
   "cell_type": "code",
   "execution_count": null,
   "id": "0e364b32-b367-4aed-8137-e7b1901fc8b2",
   "metadata": {},
   "outputs": [],
   "source": []
  },
  {
   "cell_type": "code",
   "execution_count": null,
   "id": "c5dee414-a5ef-424a-b4aa-d5a9384debe6",
   "metadata": {},
   "outputs": [],
   "source": []
  },
  {
   "cell_type": "code",
   "execution_count": null,
   "id": "43a9d47c-3352-42fe-97f4-0290511108df",
   "metadata": {},
   "outputs": [],
   "source": []
  },
  {
   "cell_type": "code",
   "execution_count": null,
   "id": "683a5b6c-0480-40a2-89dc-2709ce59b17d",
   "metadata": {},
   "outputs": [],
   "source": []
  },
  {
   "cell_type": "code",
   "execution_count": null,
   "id": "bad04f63-5940-4919-b3b5-cbefc71b4779",
   "metadata": {},
   "outputs": [],
   "source": []
  },
  {
   "cell_type": "code",
   "execution_count": null,
   "id": "e1fa4ea6-160e-4b7b-922c-3007c3b46f47",
   "metadata": {},
   "outputs": [],
   "source": []
  },
  {
   "cell_type": "code",
   "execution_count": null,
   "id": "7884f6f2-276f-4400-bf12-9d07f4f02451",
   "metadata": {},
   "outputs": [],
   "source": []
  },
  {
   "cell_type": "code",
   "execution_count": null,
   "id": "f07e2282-534e-4c24-b7a8-564aa171e930",
   "metadata": {},
   "outputs": [],
   "source": []
  },
  {
   "cell_type": "code",
   "execution_count": null,
   "id": "eac50789-1bcc-4b33-9c99-68b19798f4a1",
   "metadata": {},
   "outputs": [],
   "source": []
  },
  {
   "cell_type": "code",
   "execution_count": null,
   "id": "e6ae1e36-fc50-4f57-9ef8-092e53bc3c50",
   "metadata": {},
   "outputs": [],
   "source": []
  },
  {
   "cell_type": "code",
   "execution_count": null,
   "id": "cad524f6-91e3-416e-b4ac-b67e51bae05f",
   "metadata": {},
   "outputs": [],
   "source": []
  },
  {
   "cell_type": "code",
   "execution_count": null,
   "id": "c83f5664-5357-4b37-b95a-793da468b2c5",
   "metadata": {},
   "outputs": [],
   "source": []
  },
  {
   "cell_type": "code",
   "execution_count": null,
   "id": "697004a6-8021-406d-b214-5b745d4d0411",
   "metadata": {},
   "outputs": [],
   "source": []
  },
  {
   "cell_type": "code",
   "execution_count": null,
   "id": "49e4ad43-fde9-4807-b4bf-33a138b32c1f",
   "metadata": {},
   "outputs": [],
   "source": []
  },
  {
   "cell_type": "code",
   "execution_count": null,
   "id": "cd4db17e-3936-4857-ab6e-64d9cddb2303",
   "metadata": {},
   "outputs": [],
   "source": []
  },
  {
   "cell_type": "code",
   "execution_count": null,
   "id": "f83faeea-29e4-476b-aaf2-8595c70d6c66",
   "metadata": {},
   "outputs": [],
   "source": []
  },
  {
   "cell_type": "code",
   "execution_count": null,
   "id": "0c93138c-0581-4556-9261-951147ef12fa",
   "metadata": {},
   "outputs": [],
   "source": []
  },
  {
   "cell_type": "code",
   "execution_count": null,
   "id": "1e27e608-2edf-47f7-b9ca-1728de0182e5",
   "metadata": {},
   "outputs": [],
   "source": []
  },
  {
   "cell_type": "code",
   "execution_count": null,
   "id": "e43662cd-b62c-4ff7-9deb-e1f0176f52ca",
   "metadata": {},
   "outputs": [],
   "source": []
  },
  {
   "cell_type": "code",
   "execution_count": null,
   "id": "e2ef05e1-6064-4347-a896-edb7e2009ffb",
   "metadata": {},
   "outputs": [],
   "source": []
  },
  {
   "cell_type": "code",
   "execution_count": null,
   "id": "91ac40f8-3521-4d4a-b97e-73096ab5ab8b",
   "metadata": {},
   "outputs": [],
   "source": []
  },
  {
   "cell_type": "code",
   "execution_count": null,
   "id": "bdcb62b4-098d-49c4-b50e-a4a728f97bd9",
   "metadata": {},
   "outputs": [],
   "source": []
  },
  {
   "cell_type": "code",
   "execution_count": null,
   "id": "bca3fbcf-c152-4a7d-90a9-6c50f474e0ba",
   "metadata": {},
   "outputs": [],
   "source": []
  },
  {
   "cell_type": "code",
   "execution_count": null,
   "id": "4c849fb7-c34f-499f-a7de-1ff048c924d2",
   "metadata": {},
   "outputs": [],
   "source": []
  },
  {
   "cell_type": "code",
   "execution_count": null,
   "id": "b0c84cd2-b3e4-48d3-92ef-9810cfc75672",
   "metadata": {},
   "outputs": [],
   "source": []
  },
  {
   "cell_type": "code",
   "execution_count": null,
   "id": "107db391-6fba-4350-8381-d56f247e5711",
   "metadata": {},
   "outputs": [],
   "source": []
  }
 ],
 "metadata": {
  "kernelspec": {
   "display_name": "Python 3 (ipykernel)",
   "language": "python",
   "name": "python3"
  },
  "language_info": {
   "codemirror_mode": {
    "name": "ipython",
    "version": 3
   },
   "file_extension": ".py",
   "mimetype": "text/x-python",
   "name": "python",
   "nbconvert_exporter": "python",
   "pygments_lexer": "ipython3",
   "version": "3.12.3"
  }
 },
 "nbformat": 4,
 "nbformat_minor": 5
}
