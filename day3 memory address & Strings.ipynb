{
 "cells": [
  {
   "cell_type": "code",
   "execution_count": 2,
   "id": "cc33ad7c-3a09-463a-92da-f5e115a0684f",
   "metadata": {},
   "outputs": [
    {
     "name": "stdout",
     "output_type": "stream",
     "text": [
      "140711577131576 \n",
      " 140711577131576\n"
     ]
    }
   ],
   "source": [
    "#memory address of both variable are same cuz it is representing same value\n",
    "a=5\n",
    "b=5\n",
    "print(id(a),'\\n',id(b))"
   ]
  },
  {
   "cell_type": "code",
   "execution_count": 3,
   "id": "da5035d9-d28d-4a7e-9abd-20378405bc95",
   "metadata": {},
   "outputs": [
    {
     "name": "stdout",
     "output_type": "stream",
     "text": [
      "2191318176960 \n",
      " 2191318233088\n"
     ]
    }
   ],
   "source": [
    "#memory address of both variable is diffrent cuz value might be same but it is created in 2 different address\n",
    "lst1=[1,2]\n",
    "lst2=[1,2]\n",
    "print(id(lst1),'\\n',id(lst2))"
   ]
  },
  {
   "cell_type": "code",
   "execution_count": 4,
   "id": "a675d9b6-1095-413d-a97d-0c08943b9411",
   "metadata": {},
   "outputs": [
    {
     "name": "stdout",
     "output_type": "stream",
     "text": [
      "2191268273376 \n",
      " 2191268273376\n"
     ]
    }
   ],
   "source": [
    "#memory address of both variable are same cuz it is representing same value\n",
    "a=\"Amar\"\n",
    "b=\"Amar\"\n",
    "print(id(a),'\\n',id(b))"
   ]
  },
  {
   "cell_type": "code",
   "execution_count": 9,
   "id": "76e37d10-c038-4dad-9bff-0ce4ed889864",
   "metadata": {},
   "outputs": [
    {
     "data": {
      "text/plain": [
       "'llo World'"
      ]
     },
     "execution_count": 9,
     "metadata": {},
     "output_type": "execute_result"
    }
   ],
   "source": [
    "a=\"hello World\"\n",
    "a[2:]"
   ]
  },
  {
   "cell_type": "code",
   "execution_count": 11,
   "id": "212e7eff-f51d-4d28-99ce-c6ea7cab25fc",
   "metadata": {},
   "outputs": [
    {
     "data": {
      "text/plain": [
       "'W'"
      ]
     },
     "execution_count": 11,
     "metadata": {},
     "output_type": "execute_result"
    }
   ],
   "source": [
    "a[6]"
   ]
  },
  {
   "cell_type": "code",
   "execution_count": 12,
   "id": "b8eed333-f8bc-47ff-a1c1-c6bb1d4bd4a5",
   "metadata": {},
   "outputs": [
    {
     "data": {
      "text/plain": [
       "'llo '"
      ]
     },
     "execution_count": 12,
     "metadata": {},
     "output_type": "execute_result"
    }
   ],
   "source": [
    "#slice Operation\n",
    "a[2:6]"
   ]
  },
  {
   "cell_type": "code",
   "execution_count": 13,
   "id": "ab85b54d-ddda-4b5d-b9c3-aeb897d2f64f",
   "metadata": {},
   "outputs": [
    {
     "data": {
      "text/plain": [
       "'hello Worl'"
      ]
     },
     "execution_count": 13,
     "metadata": {},
     "output_type": "execute_result"
    }
   ],
   "source": [
    "a[:-1]"
   ]
  },
  {
   "cell_type": "code",
   "execution_count": 14,
   "id": "f630d0ec-5d16-44ec-b557-91cd6dff3bd9",
   "metadata": {},
   "outputs": [
    {
     "data": {
      "text/plain": [
       "'ramA'"
      ]
     },
     "execution_count": 14,
     "metadata": {},
     "output_type": "execute_result"
    }
   ],
   "source": [
    "#For Reversing a String\n",
    "str1=\"Amar\"\n",
    "str1[::-1]"
   ]
  },
  {
   "cell_type": "code",
   "execution_count": 15,
   "id": "a8cfaa64-ef66-457f-bbc0-e8653d3dcc38",
   "metadata": {},
   "outputs": [
    {
     "data": {
      "text/plain": [
       "'iiH'"
      ]
     },
     "execution_count": 15,
     "metadata": {},
     "output_type": "execute_result"
    }
   ],
   "source": [
    "str2=\"Hii I am Amarnath\"\n",
    "str2[2::-1]"
   ]
  },
  {
   "cell_type": "code",
   "execution_count": 17,
   "id": "e730ade9-ad1f-4d1e-a0b4-6b4c38f54096",
   "metadata": {},
   "outputs": [
    {
     "data": {
      "text/plain": [
       "'htanramA'"
      ]
     },
     "execution_count": 17,
     "metadata": {},
     "output_type": "execute_result"
    }
   ],
   "source": [
    "str2[:-9:-1]"
   ]
  },
  {
   "cell_type": "code",
   "execution_count": 19,
   "id": "f73117bc-8e07-4e25-8a87-09d05cfa0c97",
   "metadata": {},
   "outputs": [
    {
     "data": {
      "text/plain": [
       "6"
      ]
     },
     "execution_count": 19,
     "metadata": {},
     "output_type": "execute_result"
    }
   ],
   "source": [
    "#Find Function\n",
    "str2.find('a')"
   ]
  },
  {
   "cell_type": "code",
   "execution_count": 20,
   "id": "71766f6f-b62a-4e2c-86fe-c2240598eb9a",
   "metadata": {},
   "outputs": [
    {
     "data": {
      "text/plain": [
       "18"
      ]
     },
     "execution_count": 20,
     "metadata": {},
     "output_type": "execute_result"
    }
   ],
   "source": [
    "#Count Function\n",
    "str2.count('')"
   ]
  },
  {
   "cell_type": "code",
   "execution_count": 22,
   "id": "2454b802-9da8-456a-bdcc-49d4eb4970e4",
   "metadata": {},
   "outputs": [
    {
     "data": {
      "text/plain": [
       "3"
      ]
     },
     "execution_count": 22,
     "metadata": {},
     "output_type": "execute_result"
    }
   ],
   "source": [
    "str2.count('a')"
   ]
  },
  {
   "cell_type": "code",
   "execution_count": 24,
   "id": "7ef9a34c-8147-493f-b588-4e26d3ea8a1a",
   "metadata": {},
   "outputs": [
    {
     "data": {
      "text/plain": [
       "['Hii', 'I', 'am', 'Amarnath']"
      ]
     },
     "execution_count": 24,
     "metadata": {},
     "output_type": "execute_result"
    }
   ],
   "source": [
    "#SPLIT Function\n",
    "str2.split(' ')"
   ]
  },
  {
   "cell_type": "code",
   "execution_count": 25,
   "id": "59e186f1-ee79-4a3c-870e-1c97d8dc38e0",
   "metadata": {},
   "outputs": [
    {
     "data": {
      "text/plain": [
       "['Am', 'r']"
      ]
     },
     "execution_count": 25,
     "metadata": {},
     "output_type": "execute_result"
    }
   ],
   "source": [
    "str1.split('a')"
   ]
  },
  {
   "cell_type": "code",
   "execution_count": 26,
   "id": "908beb28-bafd-4938-974d-913396123436",
   "metadata": {},
   "outputs": [
    {
     "data": {
      "text/plain": [
       "'HII I AM AMARNATH'"
      ]
     },
     "execution_count": 26,
     "metadata": {},
     "output_type": "execute_result"
    }
   ],
   "source": [
    "#UPPER AND LOWER CASE\n",
    "str2.upper()"
   ]
  },
  {
   "cell_type": "code",
   "execution_count": 27,
   "id": "f866ed4c-1545-4e35-926d-f8ab209567a8",
   "metadata": {},
   "outputs": [
    {
     "data": {
      "text/plain": [
       "'amar'"
      ]
     },
     "execution_count": 27,
     "metadata": {},
     "output_type": "execute_result"
    }
   ],
   "source": [
    "str1.lower()"
   ]
  },
  {
   "cell_type": "code",
   "execution_count": 28,
   "id": "df698263-7b1e-4266-b61e-9a284b12d830",
   "metadata": {},
   "outputs": [
    {
     "data": {
      "text/plain": [
       "'hII i AM aMARNATH'"
      ]
     },
     "execution_count": 28,
     "metadata": {},
     "output_type": "execute_result"
    }
   ],
   "source": [
    "#SwapCase\n",
    "str2.swapcase()"
   ]
  },
  {
   "cell_type": "code",
   "execution_count": 29,
   "id": "f9ceaca8-3331-4126-b84f-6fc85caae583",
   "metadata": {},
   "outputs": [
    {
     "data": {
      "text/plain": [
       "'Hii I Am Amarnath'"
      ]
     },
     "execution_count": 29,
     "metadata": {},
     "output_type": "execute_result"
    }
   ],
   "source": [
    "#Title Case\n",
    "str2.title()"
   ]
  },
  {
   "cell_type": "code",
   "execution_count": null,
   "id": "19ec82dd-7c1a-4c40-80e4-d9c487ea1967",
   "metadata": {},
   "outputs": [],
   "source": []
  },
  {
   "cell_type": "code",
   "execution_count": null,
   "id": "f564c1a9-bf96-4182-886a-8716b10f0ced",
   "metadata": {},
   "outputs": [],
   "source": []
  },
  {
   "cell_type": "code",
   "execution_count": null,
   "id": "86afcbe9-2c96-4439-b4ca-75dfa4c2940e",
   "metadata": {},
   "outputs": [],
   "source": []
  },
  {
   "cell_type": "code",
   "execution_count": null,
   "id": "1401c434-03b1-4bb9-81c8-afdfac0f47c3",
   "metadata": {},
   "outputs": [],
   "source": []
  },
  {
   "cell_type": "code",
   "execution_count": null,
   "id": "02ac0f62-82b6-4737-af10-c104411fc812",
   "metadata": {},
   "outputs": [],
   "source": []
  },
  {
   "cell_type": "code",
   "execution_count": null,
   "id": "77c3af64-a92f-4e60-a7c6-36aa6e6546c8",
   "metadata": {},
   "outputs": [],
   "source": []
  },
  {
   "cell_type": "code",
   "execution_count": null,
   "id": "7abd4c0e-b972-4655-9857-622d3fd7bb83",
   "metadata": {},
   "outputs": [],
   "source": []
  }
 ],
 "metadata": {
  "kernelspec": {
   "display_name": "Python 3 (ipykernel)",
   "language": "python",
   "name": "python3"
  },
  "language_info": {
   "codemirror_mode": {
    "name": "ipython",
    "version": 3
   },
   "file_extension": ".py",
   "mimetype": "text/x-python",
   "name": "python",
   "nbconvert_exporter": "python",
   "pygments_lexer": "ipython3",
   "version": "3.12.3"
  }
 },
 "nbformat": 4,
 "nbformat_minor": 5
}
