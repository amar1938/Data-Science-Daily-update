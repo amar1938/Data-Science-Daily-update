{
 "cells": [
  {
   "cell_type": "code",
   "execution_count": 1,
   "id": "c5783825-eac5-4595-8d88-c7c1508a6777",
   "metadata": {},
   "outputs": [],
   "source": [
    "t1=(1,2,33,12.5,'Amar',2+5j)\n"
   ]
  },
  {
   "cell_type": "code",
   "execution_count": 2,
   "id": "ad637c2d-2eaf-418d-ab7d-a7825aaf41de",
   "metadata": {},
   "outputs": [
    {
     "data": {
      "text/plain": [
       "tuple"
      ]
     },
     "execution_count": 2,
     "metadata": {},
     "output_type": "execute_result"
    }
   ],
   "source": [
    "type(t1)"
   ]
  },
  {
   "cell_type": "code",
   "execution_count": 3,
   "id": "d68e5e66-106a-4345-988f-173885df8503",
   "metadata": {},
   "outputs": [
    {
     "data": {
      "text/plain": [
       "((2+5j), 'Amar', 12.5, 33, 2, 1)"
      ]
     },
     "execution_count": 3,
     "metadata": {},
     "output_type": "execute_result"
    }
   ],
   "source": [
    "#Reversing a Tuple\n",
    "t1[::-1]"
   ]
  },
  {
   "cell_type": "code",
   "execution_count": 4,
   "id": "222d6b89-421b-4560-90af-86c12349e8d8",
   "metadata": {},
   "outputs": [],
   "source": [
    "t2 = t1[::-1]"
   ]
  },
  {
   "cell_type": "code",
   "execution_count": 5,
   "id": "b1a09608-1fa8-4a65-9284-5d12f4e85835",
   "metadata": {},
   "outputs": [
    {
     "data": {
      "text/plain": [
       "((2+5j), 'Amar', 12.5, 33, 2, 1)"
      ]
     },
     "execution_count": 5,
     "metadata": {},
     "output_type": "execute_result"
    }
   ],
   "source": [
    "t2"
   ]
  },
  {
   "cell_type": "code",
   "execution_count": 8,
   "id": "0692b09f-1a07-46cb-886b-5ab1f67359c7",
   "metadata": {},
   "outputs": [
    {
     "data": {
      "text/plain": [
       "1"
      ]
     },
     "execution_count": 8,
     "metadata": {},
     "output_type": "execute_result"
    }
   ],
   "source": [
    "t2.count(1)"
   ]
  },
  {
   "cell_type": "code",
   "execution_count": 11,
   "id": "99256bdc-aed3-4d9f-b219-f2cf75c1f54c",
   "metadata": {},
   "outputs": [
    {
     "data": {
      "text/plain": [
       "6"
      ]
     },
     "execution_count": 11,
     "metadata": {},
     "output_type": "execute_result"
    }
   ],
   "source": [
    "len(t2)"
   ]
  },
  {
   "cell_type": "code",
   "execution_count": 12,
   "id": "f0f6ebd2-ed21-42d6-9a88-01d4fe090571",
   "metadata": {},
   "outputs": [
    {
     "data": {
      "text/plain": [
       "1"
      ]
     },
     "execution_count": 12,
     "metadata": {},
     "output_type": "execute_result"
    }
   ],
   "source": [
    "t2.index('Amar')"
   ]
  },
  {
   "cell_type": "code",
   "execution_count": 13,
   "id": "a2eb34ee-b7e1-44c7-a235-7bae61e83c22",
   "metadata": {},
   "outputs": [
    {
     "data": {
      "text/plain": [
       "5"
      ]
     },
     "execution_count": 13,
     "metadata": {},
     "output_type": "execute_result"
    }
   ],
   "source": [
    "t2.index(1)"
   ]
  },
  {
   "cell_type": "code",
   "execution_count": 14,
   "id": "2c4bf104-7577-48e7-9f90-97d45c43c044",
   "metadata": {},
   "outputs": [
    {
     "data": {
      "text/plain": [
       "2"
      ]
     },
     "execution_count": 14,
     "metadata": {},
     "output_type": "execute_result"
    }
   ],
   "source": [
    "#tuple considers both True and 1 as 1 only\n",
    "t=(True,1,2,3,14.5,14.5)\n",
    "t.count(1)"
   ]
  },
  {
   "cell_type": "code",
   "execution_count": 15,
   "id": "ad440ad0-84cc-46ac-bee4-ee2f7a864918",
   "metadata": {},
   "outputs": [
    {
     "data": {
      "text/plain": [
       "2"
      ]
     },
     "execution_count": 15,
     "metadata": {},
     "output_type": "execute_result"
    }
   ],
   "source": [
    "t.count(True)"
   ]
  },
  {
   "cell_type": "code",
   "execution_count": 16,
   "id": "7553fe7e-caa9-4341-a58d-84431cc656ff",
   "metadata": {},
   "outputs": [
    {
     "data": {
      "text/plain": [
       "0"
      ]
     },
     "execution_count": 16,
     "metadata": {},
     "output_type": "execute_result"
    }
   ],
   "source": [
    "t.index(1)\n"
   ]
  },
  {
   "cell_type": "code",
   "execution_count": 17,
   "id": "3bd55367-e842-482e-b9ff-f1cce693a3a9",
   "metadata": {},
   "outputs": [
    {
     "ename": "TypeError",
     "evalue": "'tuple' object does not support item assignment",
     "output_type": "error",
     "traceback": [
      "\u001b[1;31m---------------------------------------------------------------------------\u001b[0m",
      "\u001b[1;31mTypeError\u001b[0m                                 Traceback (most recent call last)",
      "Cell \u001b[1;32mIn[17], line 2\u001b[0m\n\u001b[0;32m      1\u001b[0m \u001b[38;5;66;03m#TUPLE is not Mutable Example\u001b[39;00m\n\u001b[1;32m----> 2\u001b[0m \u001b[43mt\u001b[49m\u001b[43m[\u001b[49m\u001b[38;5;241;43m0\u001b[39;49m\u001b[43m]\u001b[49m \u001b[38;5;241m=\u001b[39m \u001b[38;5;241m2\u001b[39m\n",
      "\u001b[1;31mTypeError\u001b[0m: 'tuple' object does not support item assignment"
     ]
    }
   ],
   "source": [
    "#TUPLE is ImMutable Example\n",
    "t[0] = 2"
   ]
  },
  {
   "cell_type": "code",
   "execution_count": 19,
   "id": "02e7de49-583c-403f-9914-3240a550a4c3",
   "metadata": {},
   "outputs": [
    {
     "name": "stdout",
     "output_type": "stream",
     "text": [
      "(2+5j)\n",
      "Amar\n",
      "12.5\n",
      "33\n",
      "2\n",
      "1\n"
     ]
    }
   ],
   "source": [
    "for i in t2:\n",
    "    print(i)"
   ]
  },
  {
   "cell_type": "code",
   "execution_count": 20,
   "id": "b9752a94-5be3-4df0-9608-952e79d8b5f6",
   "metadata": {},
   "outputs": [
    {
     "data": {
      "text/plain": [
       "(1, 2, 3, 1, 2, 3, 1, 2, 3)"
      ]
     },
     "execution_count": 20,
     "metadata": {},
     "output_type": "execute_result"
    }
   ],
   "source": [
    "T=(1,2,3)\n",
    "T*3"
   ]
  },
  {
   "cell_type": "code",
   "execution_count": null,
   "id": "bf0544c3-13d7-4779-a41f-4a4c301d0fd0",
   "metadata": {},
   "outputs": [],
   "source": [
    "#TUPLES are used in cases where values are not meant to be changed in future"
   ]
  },
  {
   "cell_type": "code",
   "execution_count": null,
   "id": "5f47ee27-8012-4f66-b1a9-9e9059e0f9e2",
   "metadata": {},
   "outputs": [],
   "source": []
  },
  {
   "cell_type": "code",
   "execution_count": null,
   "id": "e8f4ac44-738a-44ec-85b6-b5442a4e72c6",
   "metadata": {},
   "outputs": [],
   "source": []
  },
  {
   "cell_type": "code",
   "execution_count": null,
   "id": "3b8ec61e-8d66-4448-a8a7-56b0b62a3641",
   "metadata": {},
   "outputs": [],
   "source": []
  },
  {
   "cell_type": "code",
   "execution_count": null,
   "id": "040d8dc9-8592-4c91-96c4-91ee97ffe106",
   "metadata": {},
   "outputs": [],
   "source": []
  },
  {
   "cell_type": "code",
   "execution_count": null,
   "id": "6c3d5377-d476-4fad-943e-dce491ee7cbb",
   "metadata": {},
   "outputs": [],
   "source": []
  }
 ],
 "metadata": {
  "kernelspec": {
   "display_name": "Python 3 (ipykernel)",
   "language": "python",
   "name": "python3"
  },
  "language_info": {
   "codemirror_mode": {
    "name": "ipython",
    "version": 3
   },
   "file_extension": ".py",
   "mimetype": "text/x-python",
   "name": "python",
   "nbconvert_exporter": "python",
   "pygments_lexer": "ipython3",
   "version": "3.12.3"
  }
 },
 "nbformat": 4,
 "nbformat_minor": 5
}
