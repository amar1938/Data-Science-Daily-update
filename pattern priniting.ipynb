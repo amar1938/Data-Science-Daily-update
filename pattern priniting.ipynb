{
 "cells": [
  {
   "cell_type": "code",
   "execution_count": 1,
   "id": "0c3a94de-8dfd-45f9-bc4f-934a31aeb04b",
   "metadata": {},
   "outputs": [
    {
     "name": "stdout",
     "output_type": "stream",
     "text": [
      " * \n",
      " *  * \n",
      " *  *  * \n",
      " *  *  *  * \n",
      " *  *  *  *  * \n",
      " *  *  *  *  *  * \n",
      " *  *  *  *  *  *  * \n"
     ]
    }
   ],
   "source": [
    "#pattern Printing\n",
    "n=7\n",
    "for i in range(0,n):\n",
    "    for j in range(0,i+1):\n",
    "        print(\" * \",end=\"\")\n",
    "    print('\\r')\n",
    "        \n",
    "    "
   ]
  },
  {
   "cell_type": "code",
   "execution_count": 2,
   "id": "2ae4d554-f75d-4e2c-b8e3-96ef0a258541",
   "metadata": {},
   "outputs": [
    {
     "name": "stdout",
     "output_type": "stream",
     "text": [
      "            * \n",
      "           * * \n",
      "          * * * \n",
      "         * * * * \n",
      "        * * * * * \n",
      "       * * * * * * \n",
      "      * * * * * * * \n"
     ]
    }
   ],
   "source": [
    "#pyramid pattern printing\n",
    "n=7\n",
    "m = (2*n)-2\n",
    "for i in range(0,n):\n",
    "        # Print leading spaces\n",
    "        for j in range(0,m):\n",
    "            print(end=\" \")\n",
    "        m=m-1\n",
    "        # Print asterisks for the current row\n",
    "        for j in range(0,i+1):\n",
    "            print(\"*\", end=\" \")\n",
    "        print()"
   ]
  },
  {
   "cell_type": "code",
   "execution_count": 3,
   "id": "36dcc16b-0b89-45e1-9f23-226749dd4b57",
   "metadata": {},
   "outputs": [
    {
     "name": "stdin",
     "output_type": "stream",
     "text": [
      "Enter the number of rows:  15\n"
     ]
    },
    {
     "name": "stdout",
     "output_type": "stream",
     "text": [
      "                            * \n",
      "                           * * \n",
      "                          * * * \n",
      "                         * * * * \n",
      "                        * * * * * \n",
      "                       * * * * * * \n",
      "                      * * * * * * * \n",
      "                     * * * * * * * * \n",
      "                    * * * * * * * * * \n",
      "                   * * * * * * * * * * \n",
      "                  * * * * * * * * * * * \n",
      "                 * * * * * * * * * * * * \n",
      "                * * * * * * * * * * * * * \n",
      "               * * * * * * * * * * * * * * \n",
      "              * * * * * * * * * * * * * * * \n"
     ]
    }
   ],
   "source": [
    "rows = int(input(\"Enter the number of rows: \"))  \n",
    "m = (2*rows)-2\n",
    "\n",
    "for i in range(0, rows):    \n",
    "        for j in range(0, m):  \n",
    "            print(end=\" \")\n",
    " \n",
    "        m -= 1 \n",
    "        for j in range(0, i+1):  \n",
    "            print(\"*\",end=\" \")              \n",
    "  \n",
    "        print()"
   ]
  },
  {
   "cell_type": "code",
   "execution_count": null,
   "id": "abb5d6ff-bd5c-4cf5-ae38-8d9c3235f02e",
   "metadata": {},
   "outputs": [],
   "source": []
  }
 ],
 "metadata": {
  "kernelspec": {
   "display_name": "Python 3 (ipykernel)",
   "language": "python",
   "name": "python3"
  },
  "language_info": {
   "codemirror_mode": {
    "name": "ipython",
    "version": 3
   },
   "file_extension": ".py",
   "mimetype": "text/x-python",
   "name": "python",
   "nbconvert_exporter": "python",
   "pygments_lexer": "ipython3",
   "version": "3.12.3"
  }
 },
 "nbformat": 4,
 "nbformat_minor": 5
}
